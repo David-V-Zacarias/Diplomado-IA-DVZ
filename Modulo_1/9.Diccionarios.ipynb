{
 "cells": [
  {
   "cell_type": "markdown",
   "metadata": {},
   "source": [
    "# Diccionarios: Almacenamiento de Datos en Pares Clave-Valor"
   ]
  },
  {
   "cell_type": "markdown",
   "metadata": {},
   "source": [
    "Un diccionario es un objeto que contiene palabras, y cada palabra tiene asociado un significado. Haciendo paralelismo, diríamos que en python un diccionario es también un objeot indexado por clave (las palabras) que tienen asociados unos valores (los significados)"
   ]
  },
  {
   "cell_type": "markdown",
   "metadata": {},
   "source": [
    "Los diccionarios en Python tienen las siguientes características:\n",
    "\n",
    "- Mantienen el orden en el que se insertan las claves.\n",
    "\n",
    "- Son mutables, con lo que admiten añadir, borrar y modificar sus elementos.\n",
    "\n",
    "- Las claves deben ser únicas. A menudo se utilizan las cadenas de texto como claves, pero en realidad podría ser cualquier tipo de datos inmutable: enteros, flotantes, tuplas (entre otros).\n",
    "\n",
    "- Tienen un acceso muy rápido a sus elementos, debido a la forma en la que están implementados internamente.\n"
   ]
  },
  {
   "cell_type": "code",
   "execution_count": 1,
   "metadata": {},
   "outputs": [],
   "source": [
    "diccionario_vacio = {}"
   ]
  },
  {
   "cell_type": "markdown",
   "metadata": {},
   "source": [
    "### Diccionario con Pares Clave-Valor"
   ]
  },
  {
   "cell_type": "code",
   "execution_count": 2,
   "metadata": {},
   "outputs": [],
   "source": [
    "diccionario = {\n",
    "    'Nombre':'Juan',\n",
    "    'Edad': 30,\n",
    "    'Ciudad': 'México'\n",
    "}"
   ]
  },
  {
   "cell_type": "code",
   "execution_count": 3,
   "metadata": {},
   "outputs": [
    {
     "data": {
      "text/plain": [
       "{'Nombre': 'Juan', 'Edad': 30, 'Ciudad': 'México'}"
      ]
     },
     "execution_count": 3,
     "metadata": {},
     "output_type": "execute_result"
    }
   ],
   "source": [
    "diccionario"
   ]
  },
  {
   "cell_type": "code",
   "execution_count": 4,
   "metadata": {},
   "outputs": [],
   "source": [
    "poblacion = {\n",
    "    2015: 2_135_000,\n",
    "    2016: 2_154_900,\n",
    "    2017: 2_177_000,\n",
    "    2018: 2_203_999,\n",
    "    2019: 2_566_000\n",
    "}"
   ]
  },
  {
   "cell_type": "code",
   "execution_count": 6,
   "metadata": {},
   "outputs": [],
   "source": [
    "diccionario = {\n",
    "    'Nombre':'Juan',\n",
    "    'Edad': 30,\n",
    "    'Ciudad': 'México',\n",
    "    'Hijos': ['Juan','Pedro','Pablo'],\n",
    "    'Edades_hijos': {'Juan':15,'Pedro':20,'Pablo':18}\n",
    "}"
   ]
  },
  {
   "cell_type": "code",
   "execution_count": 7,
   "metadata": {},
   "outputs": [
    {
     "data": {
      "text/plain": [
       "{'Nombre': 'Juan',\n",
       " 'Edad': 30,\n",
       " 'Ciudad': 'México',\n",
       " 'Hijos': ['Juan', 'Pedro', 'Pablo'],\n",
       " 'Edades_hijos': {'Juan': 15, 'Pedro': 20, 'Pablo': 18}}"
      ]
     },
     "execution_count": 7,
     "metadata": {},
     "output_type": "execute_result"
    }
   ],
   "source": [
    "diccionario"
   ]
  },
  {
   "cell_type": "markdown",
   "metadata": {},
   "source": [
    "Para acceder a los valores de un diccionario utilizando sus claves."
   ]
  },
  {
   "cell_type": "code",
   "execution_count": 13,
   "metadata": {},
   "outputs": [
    {
     "data": {
      "text/plain": [
       "20"
      ]
     },
     "execution_count": 13,
     "metadata": {},
     "output_type": "execute_result"
    }
   ],
   "source": [
    "nombre = diccionario['Edades_hijos']['Pedro']\n",
    "nombre"
   ]
  },
  {
   "cell_type": "code",
   "execution_count": 14,
   "metadata": {},
   "outputs": [
    {
     "data": {
      "text/plain": [
       "'Pedro'"
      ]
     },
     "execution_count": 14,
     "metadata": {},
     "output_type": "execute_result"
    }
   ],
   "source": [
    "nombre = diccionario['Hijos'][1]\n",
    "nombre"
   ]
  },
  {
   "cell_type": "code",
   "execution_count": 10,
   "metadata": {},
   "outputs": [],
   "source": [
    "nombre = diccionario.get('nombreEsposa')\n",
    "nombre"
   ]
  },
  {
   "cell_type": "code",
   "execution_count": null,
   "metadata": {},
   "outputs": [],
   "source": [
    "edad = None\n",
    "edad"
   ]
  },
  {
   "cell_type": "markdown",
   "metadata": {},
   "source": [
    "## Adición y modificación de elementos"
   ]
  },
  {
   "cell_type": "code",
   "execution_count": 17,
   "metadata": {},
   "outputs": [
    {
     "name": "stdout",
     "output_type": "stream",
     "text": [
      "{'Nombre': 'Juan', 'Edad': 30, 'Ciudad': 'México', 'Hijos': ['Juan', 'Pedro', 'Pablo'], 'Edades_hijos': {'Juan': 15, 'Pedro': 20, 'Pablo': 18}, 'Profesión': 'Ingeniero'}\n",
      "{'Nombre': 'Juan', 'Edad': 30, 'Ciudad': 'México', 'Hijos': ['Juan', 'Pedro', 'Pablo'], 'Edades_hijos': {'Juan': 15, 'Pedro': 20, 'Pablo': 18}, 'Profesión': 'Licenciado'}\n"
     ]
    }
   ],
   "source": [
    "# Agregar un nuevo par clave-valor\n",
    "diccionario['Profesión'] = 'Ingeniero'\n",
    "print(diccionario)\n",
    "\n",
    "# Modificar un valor existente\n",
    "diccionario['Profesión'] = 'Licenciado'\n",
    "print(diccionario)"
   ]
  },
  {
   "cell_type": "markdown",
   "metadata": {},
   "source": [
    "## Eliminación de Elementos\n",
    "\n",
    "- `del diccionario[clave]` : Elimina el par clave-valor especificado.\n",
    "- `diccionario.pop(clave)` : Elimina el par clave-valor y devuelve el valor.\n"
   ]
  },
  {
   "cell_type": "code",
   "execution_count": 18,
   "metadata": {},
   "outputs": [
    {
     "name": "stdout",
     "output_type": "stream",
     "text": [
      "{'Nombre': 'Juan', 'Edad': 30, 'Hijos': ['Juan', 'Pedro', 'Pablo'], 'Edades_hijos': {'Juan': 15, 'Pedro': 20, 'Pablo': 18}, 'Profesión': 'Licenciado'}\n",
      "Licenciado\n",
      "{'Nombre': 'Juan', 'Edad': 30, 'Hijos': ['Juan', 'Pedro', 'Pablo'], 'Edades_hijos': {'Juan': 15, 'Pedro': 20, 'Pablo': 18}}\n"
     ]
    }
   ],
   "source": [
    "# Eliminar un par clave-valor\n",
    "del diccionario['Ciudad']\n",
    "print(diccionario)\n",
    "\n",
    "# Eliminar y devolver un valor\n",
    "profesion = diccionario.pop('Profesión')\n",
    "print(profesion)  \n",
    "print(diccionario)"
   ]
  },
  {
   "cell_type": "markdown",
   "metadata": {},
   "source": [
    "## Métodos de Diccionarios\n",
    "\n",
    "- `keys()` : Devuelve una vista de las claves del diccionario.\n",
    "- `values()` : Devuelve una vista de los valores del diccionario.\n",
    "- `items()` : Devuelve una vista de los pares clave-valor del diccionario.\n"
   ]
  },
  {
   "cell_type": "code",
   "execution_count": 19,
   "metadata": {},
   "outputs": [
    {
     "name": "stdout",
     "output_type": "stream",
     "text": [
      "dict_keys(['Nombre', 'Edad', 'Hijos', 'Edades_hijos'])\n",
      "dict_values(['Juan', 30, ['Juan', 'Pedro', 'Pablo'], {'Juan': 15, 'Pedro': 20, 'Pablo': 18}])\n",
      "dict_items([('Nombre', 'Juan'), ('Edad', 30), ('Hijos', ['Juan', 'Pedro', 'Pablo']), ('Edades_hijos', {'Juan': 15, 'Pedro': 20, 'Pablo': 18})])\n"
     ]
    }
   ],
   "source": [
    "# Obtener todas las claves\n",
    "claves = diccionario.keys()\n",
    "print(claves)\n",
    "\n",
    "# Obtener todos los valores\n",
    "valores = diccionario.values()\n",
    "print(valores)\n",
    "\n",
    "# Obtener todos los pares clave-valor\n",
    "items = diccionario.items()\n",
    "print(items)"
   ]
  },
  {
   "cell_type": "markdown",
   "metadata": {},
   "source": [
    "## Borrar elementos"
   ]
  },
  {
   "cell_type": "code",
   "execution_count": 20,
   "metadata": {},
   "outputs": [],
   "source": [
    "rae = {\n",
    "    'bifronte': 'De dos frentes o dos caras',\n",
    "    'anarcoide': 'Que tiende al desorden',\n",
    "    'montuvio': 'Campesino de la costa'\n",
    "}"
   ]
  },
  {
   "cell_type": "code",
   "execution_count": 22,
   "metadata": {},
   "outputs": [],
   "source": [
    "del rae['bifronte']"
   ]
  },
  {
   "cell_type": "markdown",
   "metadata": {},
   "source": [
    "## Combinar diccionarios"
   ]
  },
  {
   "cell_type": "markdown",
   "metadata": {},
   "source": [
    "Dados dos (o más) diccionarios, es posible «mezclarlos» para obtener una combinación de los mismos. Esta combinación se basa en dos premisas:\n",
    "\n",
    "- Si la clave no existe, se añade con su valor.\n",
    "\n",
    "- Si la clave ya existe, se añade con el valor del «último» diccionario en la mezcla. "
   ]
  },
  {
   "cell_type": "code",
   "execution_count": 23,
   "metadata": {},
   "outputs": [],
   "source": [
    "rae1 = {\n",
    "    'bifronte': 'De dos frentes o dos caras',\n",
    "    'enjuiciar': 'Someter una cuestión a examen, discusión y juicio'\n",
    "}\n",
    "rae2 = {\n",
    "    'anarcoide': 'Que tiende al desorden',\n",
    "    'montuvio': 'Campesino de la costa',\n",
    "    'enjuiciar': 'Instruir, juzgar o sentenciar una causa'\n",
    "}"
   ]
  },
  {
   "cell_type": "code",
   "execution_count": 24,
   "metadata": {},
   "outputs": [
    {
     "data": {
      "text/plain": [
       "{'bifronte': 'De dos frentes o dos caras',\n",
       " 'enjuiciar': 'Instruir, juzgar o sentenciar una causa',\n",
       " 'anarcoide': 'Que tiende al desorden',\n",
       " 'montuvio': 'Campesino de la costa'}"
      ]
     },
     "execution_count": 24,
     "metadata": {},
     "output_type": "execute_result"
    }
   ],
   "source": [
    "rae1 | rae2"
   ]
  },
  {
   "cell_type": "markdown",
   "metadata": {},
   "source": [
    "## Copias"
   ]
  },
  {
   "cell_type": "markdown",
   "metadata": {},
   "source": [
    "Al igual que ocurría con las listas, si hacemos un cambio en un diccionario, se verá reflejado en todas las variables que hagan referencia al mismo. Esto se deriva de su propiedad de ser mutable."
   ]
  },
  {
   "cell_type": "code",
   "execution_count": 29,
   "metadata": {},
   "outputs": [],
   "source": [
    "original_rae = {\n",
    "    'bifronte': 'De dos frentes o dos caras',\n",
    "    'anarcoide': 'Que tiende al desorden',\n",
    "    'montuvio': 'Campesino de la costa'\n",
    "}\n",
    "copy_rae = original_rae.copy()\n",
    "\n",
    "copy_rae['bifronte'] = 'bla bla bla'"
   ]
  },
  {
   "cell_type": "code",
   "execution_count": 30,
   "metadata": {},
   "outputs": [
    {
     "data": {
      "text/plain": [
       "{'bifronte': 'De dos frentes o dos caras',\n",
       " 'anarcoide': 'Que tiende al desorden',\n",
       " 'montuvio': 'Campesino de la costa'}"
      ]
     },
     "execution_count": 30,
     "metadata": {},
     "output_type": "execute_result"
    }
   ],
   "source": [
    "original_rae"
   ]
  },
  {
   "cell_type": "markdown",
   "metadata": {},
   "source": [
    "# Ejercicios"
   ]
  },
  {
   "cell_type": "markdown",
   "metadata": {},
   "source": [
    "1. Crea un diccionario con información sobre un libro (título, autor, año de publicación).\n",
    "2. Agrega una nueva clave-valor para el género del libro.\n",
    "3. Modifica el año de publicación del libro.\n",
    "4. Elimina la clave del género."
   ]
  },
  {
   "cell_type": "code",
   "execution_count": 31,
   "metadata": {},
   "outputs": [
    {
     "data": {
      "text/plain": [
       "{'título': 'La ley seca', 'autor': 'David V. Z.', 'año': '2024'}"
      ]
     },
     "execution_count": 31,
     "metadata": {},
     "output_type": "execute_result"
    }
   ],
   "source": [
    "libro = {\n",
    "    'título': 'La ley seca',\n",
    "    'autor':'David V. Z.',\n",
    "    'año': '2024'\n",
    "}\n",
    "libro"
   ]
  },
  {
   "cell_type": "code",
   "execution_count": 32,
   "metadata": {},
   "outputs": [
    {
     "data": {
      "text/plain": [
       "{'título': 'La ley seca',\n",
       " 'autor': 'David V. Z.',\n",
       " 'año': '2024',\n",
       " 'género': 'Ficción'}"
      ]
     },
     "execution_count": 32,
     "metadata": {},
     "output_type": "execute_result"
    }
   ],
   "source": [
    "# Agregar un nuevo par clave-valor\n",
    "libro['género'] = 'Ficción'\n",
    "libro"
   ]
  },
  {
   "cell_type": "code",
   "execution_count": 33,
   "metadata": {},
   "outputs": [
    {
     "data": {
      "text/plain": [
       "{'título': 'La ley seca',\n",
       " 'autor': 'David V. Z.',\n",
       " 'año': '2023',\n",
       " 'género': 'Ficción'}"
      ]
     },
     "execution_count": 33,
     "metadata": {},
     "output_type": "execute_result"
    }
   ],
   "source": [
    "libro['año'] = '2023'\n",
    "libro"
   ]
  },
  {
   "cell_type": "code",
   "execution_count": 34,
   "metadata": {},
   "outputs": [
    {
     "data": {
      "text/plain": [
       "{'título': 'La ley seca', 'autor': 'David V. Z.', 'año': '2023'}"
      ]
     },
     "execution_count": 34,
     "metadata": {},
     "output_type": "execute_result"
    }
   ],
   "source": [
    "del libro['género']\n",
    "libro"
   ]
  },
  {
   "cell_type": "markdown",
   "metadata": {},
   "source": []
  }
 ],
 "metadata": {
  "kernelspec": {
   "display_name": "Diplomado",
   "language": "python",
   "name": "python3"
  },
  "language_info": {
   "codemirror_mode": {
    "name": "ipython",
    "version": 3
   },
   "file_extension": ".py",
   "mimetype": "text/x-python",
   "name": "python",
   "nbconvert_exporter": "python",
   "pygments_lexer": "ipython3",
   "version": "3.10.14"
  }
 },
 "nbformat": 4,
 "nbformat_minor": 2
}

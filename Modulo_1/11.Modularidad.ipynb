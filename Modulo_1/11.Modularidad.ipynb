{
 "cells": [
  {
   "cell_type": "markdown",
   "metadata": {},
   "source": [
    "# Funciones y módulos"
   ]
  },
  {
   "cell_type": "markdown",
   "metadata": {},
   "source": [
    "El concepto de función es básico en prácticamente cualquier lenguaje de programación. Se trata de una estructura que nos permite agrupar código. Persigue dos objetivos claros:\n",
    "\n",
    "    1. No repetir fragmentos de código en un programa.\n",
    "    2. Reutilizar el código en distintos escenarios.\n",
    "\n",
    "Una función viene definida por su nombre, sus parámetros y su valor de retorno. Esta parametrización de las funciones las convierten en una poderosa herramienta ajustable a las circunstancias que tengamos. Al invocarla estaremos solicitando su ejecución y obtendremos unos resultados."
   ]
  },
  {
   "cell_type": "markdown",
   "metadata": {},
   "source": [
    "## Definir una función"
   ]
  },
  {
   "cell_type": "markdown",
   "metadata": {},
   "source": [
    "Para definir una función utilizamos la palara reservada def seguida del nombre de la función. A continuación aparecerán 0 o más parámetros separados por comas (entre paréntesis), fnalizando la línea con dos puntos : En la siguiente línea empezaría el cuerpo de la función que puede contener 1 o más sentencias, incluyendo (o no) una sentencia de retorno con el resultado mediante return."
   ]
  },
  {
   "cell_type": "code",
   "execution_count": null,
   "metadata": {},
   "outputs": [],
   "source": [
    "def sumar(valor1, valor2):\n",
    "    # Codigo a ejecutar\n",
    "    return resultado"
   ]
  },
  {
   "cell_type": "code",
   "execution_count": 1,
   "metadata": {},
   "outputs": [],
   "source": [
    "def say_hello():\n",
    "    print('Hola!')"
   ]
  },
  {
   "cell_type": "code",
   "execution_count": 3,
   "metadata": {},
   "outputs": [
    {
     "name": "stdout",
     "output_type": "stream",
     "text": [
      "Hola!\n"
     ]
    }
   ],
   "source": [
    "say_hello()"
   ]
  },
  {
   "cell_type": "markdown",
   "metadata": {},
   "source": [
    "## Retornar un valor"
   ]
  },
  {
   "cell_type": "code",
   "execution_count": 4,
   "metadata": {},
   "outputs": [],
   "source": [
    "def one():\n",
    "    return 1"
   ]
  },
  {
   "cell_type": "code",
   "execution_count": 5,
   "metadata": {},
   "outputs": [
    {
     "data": {
      "text/plain": [
       "1"
      ]
     },
     "execution_count": 5,
     "metadata": {},
     "output_type": "execute_result"
    }
   ],
   "source": [
    "one()"
   ]
  },
  {
   "cell_type": "markdown",
   "metadata": {},
   "source": [
    "## Retornar multiples valores"
   ]
  },
  {
   "cell_type": "code",
   "execution_count": 7,
   "metadata": {},
   "outputs": [],
   "source": [
    "def return_multiple_v():\n",
    "    return 0,1"
   ]
  },
  {
   "cell_type": "code",
   "execution_count": 8,
   "metadata": {},
   "outputs": [
    {
     "data": {
      "text/plain": [
       "(0, 1)"
      ]
     },
     "execution_count": 8,
     "metadata": {},
     "output_type": "execute_result"
    }
   ],
   "source": [
    "return_multiple_v()"
   ]
  },
  {
   "cell_type": "code",
   "execution_count": 10,
   "metadata": {},
   "outputs": [],
   "source": [
    "a,b = return_multiple_v()"
   ]
  },
  {
   "cell_type": "code",
   "execution_count": 11,
   "metadata": {},
   "outputs": [
    {
     "data": {
      "text/plain": [
       "(0, 1)"
      ]
     },
     "execution_count": 11,
     "metadata": {},
     "output_type": "execute_result"
    }
   ],
   "source": [
    "a,b"
   ]
  },
  {
   "cell_type": "markdown",
   "metadata": {},
   "source": [
    "## Parámetros y argumentos"
   ]
  },
  {
   "cell_type": "code",
   "execution_count": 12,
   "metadata": {},
   "outputs": [],
   "source": [
    "def sqrt(value):\n",
    "    raiz = value ** (1/2)\n",
    "    return raiz"
   ]
  },
  {
   "cell_type": "code",
   "execution_count": 14,
   "metadata": {},
   "outputs": [
    {
     "data": {
      "text/plain": [
       "2.0"
      ]
     },
     "execution_count": 14,
     "metadata": {},
     "output_type": "execute_result"
    }
   ],
   "source": [
    "sqrt(4)"
   ]
  },
  {
   "cell_type": "code",
   "execution_count": 15,
   "metadata": {},
   "outputs": [],
   "source": [
    "def calcular_area(largo,ancho):\n",
    "    area = largo*ancho\n",
    "    perimetro = 2*(largo+ancho)\n",
    "    return area, perimetro"
   ]
  },
  {
   "cell_type": "code",
   "execution_count": 17,
   "metadata": {},
   "outputs": [
    {
     "name": "stdout",
     "output_type": "stream",
     "text": [
      "El area del rectangulo es: 900 cm2 y el perimetro es: 130 cm\n"
     ]
    }
   ],
   "source": [
    "area, perimetro = calcular_area(45,20)\n",
    "print(f'El area del rectangulo es: {area} cm2 y el perimetro es: {perimetro} cm')"
   ]
  },
  {
   "cell_type": "markdown",
   "metadata": {},
   "source": [
    "## Ejercicio: Encontrar las raíces de un polinomio cuadrático"
   ]
  },
  {
   "cell_type": "code",
   "execution_count": 19,
   "metadata": {},
   "outputs": [],
   "source": [
    "def resolver_polinomio_cuadratico():\n",
    "    a = float(input(\"Ingrese el coeficiente a: \"))\n",
    "    b = float(input(\"Ingrese el coeficiente b: \"))\n",
    "    c = float(input(\"Ingrese el coeficiente c: \"))\n",
    "    \n",
    "    d = b**2 - 4 * a * c\n",
    "    \n",
    "    if d > 0:\n",
    "        r1 = (-b + d**0.5) / (2 * a)\n",
    "        r2 = (-b - d**0.5) / (2 * a)\n",
    "        return r1, r2\n",
    "    \n",
    "    elif d == 0:\n",
    "        raiz = -b / (2 * a)\n",
    "        return raiz, raiz\n",
    "    \n",
    "    else:\n",
    "        parte_real = -b / (2 * a)\n",
    "        parte_imaginaria = (-d)**0.5 / (2 * a)\n",
    "        r1 = complex(parte_real, parte_imaginaria)\n",
    "        r2 = complex(parte_real, -parte_imaginaria)\n",
    "        return r1, r2"
   ]
  },
  {
   "cell_type": "code",
   "execution_count": 20,
   "metadata": {},
   "outputs": [
    {
     "name": "stdout",
     "output_type": "stream",
     "text": [
      "Las raíces del polinomio son: (-0.5+1.3228756555322954j) y (-0.5-1.3228756555322954j)\n"
     ]
    }
   ],
   "source": [
    "r1, r2 = resolver_polinomio_cuadratico()\n",
    "print(\"Las raíces del polinomio son:\", r1, \"y\", r2)"
   ]
  },
  {
   "cell_type": "code",
   "execution_count": 1,
   "metadata": {},
   "outputs": [],
   "source": [
    "def _min(a,b):\n",
    "    if a<b:\n",
    "        return a\n",
    "    else:\n",
    "        return b"
   ]
  },
  {
   "cell_type": "code",
   "execution_count": 2,
   "metadata": {},
   "outputs": [
    {
     "data": {
      "text/plain": [
       "7"
      ]
     },
     "execution_count": 2,
     "metadata": {},
     "output_type": "execute_result"
    }
   ],
   "source": [
    "_min(7,9)"
   ]
  },
  {
   "cell_type": "markdown",
   "metadata": {},
   "source": [
    "## Argumentos mutables e inmutables"
   ]
  },
  {
   "cell_type": "code",
   "execution_count": 3,
   "metadata": {},
   "outputs": [],
   "source": [
    "def square_it(values):\n",
    "    for i in range(len(values)):\n",
    "        values[i] **= 2\n",
    "    return values\n"
   ]
  },
  {
   "cell_type": "code",
   "execution_count": 4,
   "metadata": {},
   "outputs": [
    {
     "data": {
      "text/plain": [
       "[1, 4, 9]"
      ]
     },
     "execution_count": 4,
     "metadata": {},
     "output_type": "execute_result"
    }
   ],
   "source": [
    "valores = [1,2,3]\n",
    "square_it(valores)"
   ]
  },
  {
   "cell_type": "markdown",
   "metadata": {},
   "source": [
    "Supongamos una función qeu añade elementos a una lista que pasamos como argumento. La idea es que si no pasamos la lista, ésta siempre empiece siendo vacía"
   ]
  },
  {
   "cell_type": "code",
   "execution_count": 7,
   "metadata": {},
   "outputs": [],
   "source": [
    "lista = [1,2,3,4,5,6]\n",
    "\n",
    "def añadirElemento(lista_m, datos):\n",
    "    # Cálculos\n",
    "    lista_m.append(datos)"
   ]
  },
  {
   "cell_type": "code",
   "execution_count": 8,
   "metadata": {},
   "outputs": [],
   "source": [
    "añadirElemento(lista,[34,67,55])"
   ]
  },
  {
   "cell_type": "code",
   "execution_count": 9,
   "metadata": {},
   "outputs": [
    {
     "data": {
      "text/plain": [
       "[1, 2, 3, 4, 5, 6, [34, 67, 55]]"
      ]
     },
     "execution_count": 9,
     "metadata": {},
     "output_type": "execute_result"
    }
   ],
   "source": [
    "lista"
   ]
  },
  {
   "cell_type": "markdown",
   "metadata": {},
   "source": [
    "## Parámetros por defecto"
   ]
  },
  {
   "cell_type": "code",
   "execution_count": 12,
   "metadata": {},
   "outputs": [],
   "source": [
    "def resolver_polinomio_cuadratico(a,b,c):\n",
    "    d = b**2 - 4 * a * c\n",
    "    \n",
    "    if d > 0:\n",
    "        r1 = (-b + d**0.5) / (2 * a)\n",
    "        r2 = (-b - d**0.5) / (2 * a)\n",
    "        return r1, r2\n",
    "    \n",
    "    elif d == 0:\n",
    "        raiz = -b / (2 * a)\n",
    "        return raiz, raiz\n",
    "    \n",
    "    else:\n",
    "        parte_real = -b / (2 * a)\n",
    "        parte_imaginaria = (-d)**0.5 / (2 * a)\n",
    "        r1 = complex(parte_real, parte_imaginaria)\n",
    "        r2 = complex(parte_real, -parte_imaginaria)\n",
    "        return r1, r2"
   ]
  },
  {
   "cell_type": "code",
   "execution_count": 13,
   "metadata": {},
   "outputs": [
    {
     "data": {
      "text/plain": [
       "((-1+1.4142135623730951j), (-1-1.4142135623730951j))"
      ]
     },
     "execution_count": 13,
     "metadata": {},
     "output_type": "execute_result"
    }
   ],
   "source": [
    "resolver_polinomio_cuadratico(1,2,3)"
   ]
  },
  {
   "cell_type": "markdown",
   "metadata": {},
   "source": [
    "## ¿Qué son los *args?"
   ]
  },
  {
   "cell_type": "markdown",
   "metadata": {},
   "source": [
    "## ¿Cómo funcionan los *args?"
   ]
  },
  {
   "cell_type": "code",
   "execution_count": 16,
   "metadata": {},
   "outputs": [],
   "source": [
    "def funcion_con_kwars(*args):\n",
    "    print(args)"
   ]
  },
  {
   "cell_type": "code",
   "execution_count": 18,
   "metadata": {},
   "outputs": [
    {
     "name": "stdout",
     "output_type": "stream",
     "text": [
      "(1, 2)\n"
     ]
    }
   ],
   "source": [
    "funcion_con_kwars(1,2)"
   ]
  },
  {
   "cell_type": "markdown",
   "metadata": {},
   "source": [
    "## ¿Cuándo usar *args?"
   ]
  },
  {
   "cell_type": "markdown",
   "metadata": {},
   "source": [
    "## Ejemplo práctico"
   ]
  },
  {
   "cell_type": "code",
   "execution_count": 21,
   "metadata": {},
   "outputs": [],
   "source": [
    "def sumar_todos(*args):\n",
    "    total=0\n",
    "    for i in args:\n",
    "        total += i\n",
    "    return total"
   ]
  },
  {
   "cell_type": "code",
   "execution_count": 22,
   "metadata": {},
   "outputs": [
    {
     "data": {
      "text/plain": [
       "125"
      ]
     },
     "execution_count": 22,
     "metadata": {},
     "output_type": "execute_result"
    }
   ],
   "source": [
    "sumar_todos(1,2,3,4,5,6,7,8,89)"
   ]
  },
  {
   "cell_type": "markdown",
   "metadata": {},
   "source": [
    "## ¿Qué son los **kwargs?"
   ]
  },
  {
   "cell_type": "markdown",
   "metadata": {},
   "source": [
    "## ¿Cómo funcionan los **kwargs?"
   ]
  },
  {
   "cell_type": "code",
   "execution_count": 25,
   "metadata": {},
   "outputs": [],
   "source": [
    "def funcion_con_kwargs(**kwargs):\n",
    "    print(kwargs)"
   ]
  },
  {
   "cell_type": "code",
   "execution_count": 26,
   "metadata": {},
   "outputs": [
    {
     "name": "stdout",
     "output_type": "stream",
     "text": [
      "{'nombre': 'Juan', 'edad': 25}\n"
     ]
    }
   ],
   "source": [
    "funcion_con_kwargs(nombre = 'Juan', edad = 25)"
   ]
  },
  {
   "cell_type": "markdown",
   "metadata": {},
   "source": [
    "## ¿Cuándo usar **kwargs?"
   ]
  },
  {
   "cell_type": "code",
   "execution_count": 27,
   "metadata": {},
   "outputs": [],
   "source": [
    "def describir_persona(**kwars):\n",
    "    print(kwars['nombre'])\n",
    "    for key, value in kwars.items():\n",
    "        print(f'{key}: {value}')"
   ]
  },
  {
   "cell_type": "code",
   "execution_count": 28,
   "metadata": {},
   "outputs": [
    {
     "name": "stdout",
     "output_type": "stream",
     "text": [
      "['Luis', 'José']\n",
      "nombre: ['Luis', 'José']\n",
      "edad: [30, 25]\n",
      "ocupación: ['Ingeniero', 'Maestro']\n"
     ]
    }
   ],
   "source": [
    "describir_persona(nombre=['Luis','José'],edad=[30,25],ocupación=['Ingeniero','Maestro'])"
   ]
  },
  {
   "cell_type": "markdown",
   "metadata": {},
   "source": [
    "## Ejercicio: Calcular el volumen de diversas figuras geometricas"
   ]
  },
  {
   "cell_type": "code",
   "execution_count": 29,
   "metadata": {},
   "outputs": [],
   "source": [
    "def calcular_volumen(tipo_figura, **kwargs):\n",
    "    if tipo_figura=='cubo':\n",
    "        print('Volumen de un cubo')\n",
    "        V = kwargs['Lado']**3\n",
    "        return V\n",
    "    \n",
    "    elif tipo_figura=='prisma':\n",
    "        print('volumen de un prisma')\n",
    "        V = kwargs['Lado1'] * kwargs['Lado2'] * kwargs['Altura']\n",
    "        return V\n",
    "\n",
    "    elif tipo_figura=='piramide':\n",
    "        print('volumen de una piramide')\n",
    "\n",
    "    elif tipo_figura == 'cilindro':\n",
    "        print('volumen de un cilindro')\n",
    "\n",
    "    elif tipo_figura == 'cono':\n",
    "        print('columen de un cono')\n",
    "        \n",
    "    elif tipo_figura == 'esfera':\n",
    "        print('volumen de una esfera')\n",
    "\n",
    "    else:\n",
    "        print(f'Esta función no puede calcular el volumen de {tipo_figura}')"
   ]
  },
  {
   "cell_type": "code",
   "execution_count": 32,
   "metadata": {},
   "outputs": [],
   "source": [
    "import math\n",
    "\n",
    "def calcular_volumen(tipo_figura, **kwargs):\n",
    "    if tipo_figura == 'cubo':\n",
    "        print('Volumen de un cubo')\n",
    "        V = kwargs['Lado']**3\n",
    "        return V\n",
    "\n",
    "    elif tipo_figura == 'prisma':\n",
    "        print('Volumen de un prisma')\n",
    "        V = kwargs['Lado1'] * kwargs['Lado2'] * kwargs['Altura']\n",
    "        return V\n",
    "\n",
    "    elif tipo_figura == 'piramide':\n",
    "        print('Volumen de una pirámide')\n",
    "        V = (kwargs['Base'] * kwargs['Altura']) / 3\n",
    "        return V\n",
    "\n",
    "    elif tipo_figura == 'cilindro':\n",
    "        print('Volumen de un cilindro')\n",
    "        V = math.pi * kwargs['Radio']**2 * kwargs['Altura']\n",
    "        return V\n",
    "\n",
    "    elif tipo_figura == 'cono':\n",
    "        print('Volumen de un cono')\n",
    "        V = (math.pi * kwargs['Radio']**2 * kwargs['Altura']) / 3\n",
    "        return V\n",
    "\n",
    "    elif tipo_figura == 'esfera':\n",
    "        print('Volumen de una esfera')\n",
    "        V = (4/3) * math.pi * kwargs['Radio']**3\n",
    "        return V\n",
    "\n",
    "    else:\n",
    "        print(f'Esta función no puede calcular el volumen de {tipo_figura}')\n",
    "        return None"
   ]
  },
  {
   "cell_type": "code",
   "execution_count": 33,
   "metadata": {},
   "outputs": [
    {
     "name": "stdout",
     "output_type": "stream",
     "text": [
      "Volumen de un cubo\n",
      "64\n",
      "Volumen de un prisma\n",
      "140\n"
     ]
    }
   ],
   "source": [
    "figuras = ['cubo','prisma']\n",
    "for figura in figuras:\n",
    "    volumen = calcular_volumen(figura, Lado = 4, Lado1=4, Lado2 = 5, Altura = 7)\n",
    "    print(volumen)"
   ]
  },
  {
   "cell_type": "markdown",
   "metadata": {},
   "source": [
    "## Documentación"
   ]
  },
  {
   "cell_type": "code",
   "execution_count": 36,
   "metadata": {},
   "outputs": [
    {
     "name": "stdout",
     "output_type": "stream",
     "text": [
      "El promedio es: 3.0\n"
     ]
    }
   ],
   "source": [
    "def calcular_promedio(numeros):\n",
    "    \"\"\"Calcula el promedio de una lista de números\n",
    "\n",
    "    Args:\n",
    "        numeros (list): Una lista de números (int o float)\n",
    "\n",
    "    Returns:\n",
    "        float: El promedio de los números de la lista, devuelve 0 si la lista esta vacía\n",
    "\n",
    "    Ejemplo: \n",
    "        >>> calcular_promedio([1,2,3,4,5])\n",
    "        3.0\n",
    "        >>> calcular_promedio([])\n",
    "        0.0\n",
    "    \"\"\"\n",
    "    if not numeros:\n",
    "        return 0.0\n",
    "    suma=sum(numeros)\n",
    "    promedio = suma/len(numeros)\n",
    "    return(promedio)\n",
    "\n",
    "#Ejemplo de uso de la función\n",
    "numeros = [1,2,3,4,5]\n",
    "print(f'El promedio es: {calcular_promedio(numeros)}')"
   ]
  },
  {
   "cell_type": "code",
   "execution_count": 37,
   "metadata": {},
   "outputs": [
    {
     "name": "stdout",
     "output_type": "stream",
     "text": [
      "Help on function calcular_promedio in module __main__:\n",
      "\n",
      "calcular_promedio(numeros)\n",
      "    Calcula el promedio de una lista de números\n",
      "    \n",
      "    Args:\n",
      "        numeros (list): Una lista de números (int o float)\n",
      "    \n",
      "    Returns:\n",
      "        float: El promedio de los números de la lista, devuelve 0 si la lista esta vacía\n",
      "    \n",
      "    Ejemplo: \n",
      "        >>> calcular_promedio([1,2,3,4,5])\n",
      "        \n",
      "        >>> calcular_promedio([])\n",
      "        0.0\n",
      "\n"
     ]
    }
   ],
   "source": [
    "help(calcular_promedio)"
   ]
  },
  {
   "cell_type": "markdown",
   "metadata": {},
   "source": [
    "## Funciones anónimas"
   ]
  },
  {
   "cell_type": "code",
   "execution_count": 38,
   "metadata": {},
   "outputs": [
    {
     "data": {
      "text/plain": [
       "2"
      ]
     },
     "execution_count": 38,
     "metadata": {},
     "output_type": "execute_result"
    }
   ],
   "source": [
    "num_words = lambda texto: len(texto.split())\n",
    "\n",
    "num_words('Hola mundo')"
   ]
  },
  {
   "cell_type": "code",
   "execution_count": 39,
   "metadata": {},
   "outputs": [
    {
     "data": {
      "text/plain": [
       "21"
      ]
     },
     "execution_count": 39,
     "metadata": {},
     "output_type": "execute_result"
    }
   ],
   "source": [
    "num_words('Veamos un primer ejemplo de función lambda que nos permite contar el número de palabras de una cadena de texto dada')"
   ]
  },
  {
   "cell_type": "code",
   "execution_count": 40,
   "metadata": {},
   "outputs": [],
   "source": [
    "sum_list = lambda lista: sum(lista)"
   ]
  },
  {
   "cell_type": "code",
   "execution_count": 41,
   "metadata": {},
   "outputs": [
    {
     "data": {
      "text/plain": [
       "15"
      ]
     },
     "execution_count": 41,
     "metadata": {},
     "output_type": "execute_result"
    }
   ],
   "source": [
    "suma = sum_list([1,2,3,4,5])\n",
    "suma"
   ]
  },
  {
   "cell_type": "markdown",
   "metadata": {},
   "source": [
    "## Módulos"
   ]
  },
  {
   "cell_type": "code",
   "execution_count": 42,
   "metadata": {},
   "outputs": [],
   "source": [
    "#! pip install numpy\n",
    "import numpy"
   ]
  },
  {
   "cell_type": "markdown",
   "metadata": {},
   "source": [
    "## Importar varios objetos"
   ]
  },
  {
   "cell_type": "code",
   "execution_count": 43,
   "metadata": {},
   "outputs": [],
   "source": [
    "from numpy import array"
   ]
  },
  {
   "cell_type": "markdown",
   "metadata": {},
   "source": [
    "## Importar usando un alias"
   ]
  },
  {
   "cell_type": "code",
   "execution_count": null,
   "metadata": {},
   "outputs": [],
   "source": [
    "import numpy as np\n",
    "\n",
    "np.array()"
   ]
  },
  {
   "cell_type": "code",
   "execution_count": 49,
   "metadata": {},
   "outputs": [],
   "source": [
    "from calculator.basic_operations import *"
   ]
  },
  {
   "cell_type": "code",
   "execution_count": 47,
   "metadata": {},
   "outputs": [
    {
     "name": "stdout",
     "output_type": "stream",
     "text": [
      "Help on function multiplicacion in module calculator.basic_operations:\n",
      "\n",
      "multiplicacion(a, b)\n",
      "    Multiplica dos números.\n",
      "    \n",
      "    :param a: El primer número.\n",
      "    :param b: El segundo número.\n",
      "    :return: El producto de a y b.\n",
      "\n"
     ]
    }
   ],
   "source": [
    "help(multiplicacion)"
   ]
  },
  {
   "cell_type": "code",
   "execution_count": 48,
   "metadata": {},
   "outputs": [
    {
     "data": {
      "text/plain": [
       "8"
      ]
     },
     "execution_count": 48,
     "metadata": {},
     "output_type": "execute_result"
    }
   ],
   "source": [
    "multiplicacion(2,4)"
   ]
  },
  {
   "cell_type": "code",
   "execution_count": 50,
   "metadata": {},
   "outputs": [],
   "source": [
    "import calculator"
   ]
  },
  {
   "cell_type": "code",
   "execution_count": 51,
   "metadata": {},
   "outputs": [
    {
     "data": {
      "text/plain": [
       "1.3862943611198906"
      ]
     },
     "execution_count": 51,
     "metadata": {},
     "output_type": "execute_result"
    }
   ],
   "source": [
    "calculator.logaritmo(4)"
   ]
  },
  {
   "cell_type": "code",
   "execution_count": 52,
   "metadata": {},
   "outputs": [],
   "source": [
    "import calculator as cacl"
   ]
  },
  {
   "cell_type": "code",
   "execution_count": 53,
   "metadata": {},
   "outputs": [
    {
     "data": {
      "text/plain": [
       "1.3862943611198906"
      ]
     },
     "execution_count": 53,
     "metadata": {},
     "output_type": "execute_result"
    }
   ],
   "source": [
    "cacl.logaritmo(4)"
   ]
  }
 ],
 "metadata": {
  "kernelspec": {
   "display_name": "CDIA",
   "language": "python",
   "name": "python3"
  },
  "language_info": {
   "codemirror_mode": {
    "name": "ipython",
    "version": 3
   },
   "file_extension": ".py",
   "mimetype": "text/x-python",
   "name": "python",
   "nbconvert_exporter": "python",
   "pygments_lexer": "ipython3",
   "version": "3.10.14"
  }
 },
 "nbformat": 4,
 "nbformat_minor": 2
}

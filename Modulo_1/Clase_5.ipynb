{
 "cells": [
  {
   "cell_type": "code",
   "execution_count": 2,
   "metadata": {},
   "outputs": [],
   "source": [
    "def square_it(values):\n",
    "    for i in range(len(values)):\n",
    "        values[i] **= 2\n",
    "    return values"
   ]
  },
  {
   "cell_type": "code",
   "execution_count": 3,
   "metadata": {},
   "outputs": [
    {
     "data": {
      "text/plain": [
       "[4, 9, 16]"
      ]
     },
     "execution_count": 3,
     "metadata": {},
     "output_type": "execute_result"
    }
   ],
   "source": [
    "valores = [2,3,4]\n",
    "square_it(valores)"
   ]
  },
  {
   "cell_type": "code",
   "execution_count": 4,
   "metadata": {},
   "outputs": [],
   "source": [
    "lista = [1,2,3,4,5,6]\n",
    "def añadirElemento(list_m,datos):\n",
    "    list_m.append(datos)"
   ]
  },
  {
   "cell_type": "code",
   "execution_count": 5,
   "metadata": {},
   "outputs": [],
   "source": [
    "añadirElemento(lista,[34,67,55])"
   ]
  },
  {
   "cell_type": "code",
   "execution_count": 6,
   "metadata": {},
   "outputs": [
    {
     "data": {
      "text/plain": [
       "[1, 2, 3, 4, 5, 6, [34, 67, 55]]"
      ]
     },
     "execution_count": 6,
     "metadata": {},
     "output_type": "execute_result"
    }
   ],
   "source": [
    "lista"
   ]
  },
  {
   "cell_type": "code",
   "execution_count": 7,
   "metadata": {},
   "outputs": [],
   "source": [
    "lista = [1,2,3,4,5,6]\n",
    "def añadirElemento(list_m,datos):\n",
    "    lista2 = list.copy()\n",
    "    lista2.append(datos)"
   ]
  },
  {
   "cell_type": "code",
   "execution_count": 8,
   "metadata": {},
   "outputs": [
    {
     "name": "stdout",
     "output_type": "stream",
     "text": [
      "Las raíces del polinomio son: (-1+1.7320508075688772j) y (-1-1.7320508075688772j)\n"
     ]
    }
   ],
   "source": [
    "def resolver_polinomio_cuadratico():\n",
    "    a = float(input(\"Ingrese el coeficiente a: \"))\n",
    "    b = float(input(\"Ingrese el coeficiente b: \"))\n",
    "    c = float(input(\"Ingrese el coeficiente c: \"))\n",
    "    \n",
    "    d = b**2 - 4 * a * c\n",
    "    \n",
    "    if d > 0:\n",
    "        r1 = (-b + d**0.5) / (2 * a)\n",
    "        r2 = (-b - d**0.5) / (2 * a)\n",
    "        return r1, r2\n",
    "    \n",
    "    elif d == 0:\n",
    "        raiz = -b / (2 * a)\n",
    "        return raiz, raiz\n",
    "    \n",
    "    else:\n",
    "        parte_real = -b / (2 * a)\n",
    "        parte_imaginaria = (-d)**0.5 / (2 * a)\n",
    "        r1 = complex(parte_real, parte_imaginaria)\n",
    "        r2 = complex(parte_real, -parte_imaginaria)\n",
    "        return r1, r2\n",
    "\n",
    "r1, r2 = resolver_polinomio_cuadratico()\n",
    "print(\"Las raíces del polinomio son:\", r1, \"y\", r2)\n",
    "\n"
   ]
  },
  {
   "cell_type": "code",
   "execution_count": null,
   "metadata": {},
   "outputs": [],
   "source": [
    "def sumar_todos(*args):\n",
    "    total=0\n",
    "    for i in arg"
   ]
  },
  {
   "cell_type": "code",
   "execution_count": 9,
   "metadata": {},
   "outputs": [],
   "source": [
    "def funcion_con_kwars(**kwars):\n",
    "    print(kwars)"
   ]
  },
  {
   "cell_type": "code",
   "execution_count": 10,
   "metadata": {},
   "outputs": [
    {
     "name": "stdout",
     "output_type": "stream",
     "text": [
      "{'nombre': 'Juan', 'edad': 25}\n"
     ]
    }
   ],
   "source": [
    "funcion_con_kwars(nombre='Juan',edad=25)"
   ]
  },
  {
   "cell_type": "code",
   "execution_count": 17,
   "metadata": {},
   "outputs": [],
   "source": [
    "def describir_persona(**kwars):\n",
    "    print(kwars['nombre'])\n",
    "    for key, value in kwars.items():\n",
    "        print(f'{key}: {value}')"
   ]
  },
  {
   "cell_type": "code",
   "execution_count": 18,
   "metadata": {},
   "outputs": [
    {
     "name": "stdout",
     "output_type": "stream",
     "text": [
      "['Luis', 'José']\n",
      "nombre: ['Luis', 'José']\n",
      "edad: [30, 25]\n",
      "ocupación: ['Ingeniero', 'Maestro']\n"
     ]
    }
   ],
   "source": [
    "describir_persona(nombre=['Luis','José'],edad=[30,25],ocupación=['Ingeniero','Maestro'])"
   ]
  }
 ],
 "metadata": {
  "kernelspec": {
   "display_name": "DCM1",
   "language": "python",
   "name": "python3"
  },
  "language_info": {
   "codemirror_mode": {
    "name": "ipython",
    "version": 3
   },
   "file_extension": ".py",
   "mimetype": "text/x-python",
   "name": "python",
   "nbconvert_exporter": "python",
   "pygments_lexer": "ipython3",
   "version": "3.10.14"
  }
 },
 "nbformat": 4,
 "nbformat_minor": 2
}

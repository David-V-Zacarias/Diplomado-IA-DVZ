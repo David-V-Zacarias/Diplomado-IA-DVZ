{
 "cells": [
  {
   "cell_type": "markdown",
   "metadata": {},
   "source": [
    "# La sentencia while"
   ]
  },
  {
   "cell_type": "code",
   "execution_count": 2,
   "metadata": {},
   "outputs": [
    {
     "name": "stdout",
     "output_type": "stream",
     "text": [
      "¡Hola qué tal!\n",
      "¡Hola qué tal!\n",
      "¡Hola qué tal!\n",
      "¡Hola qué tal!\n",
      "¡Hola qué tal!\n",
      "¡Hola qué tal!\n",
      "¡Hola qué tal!\n",
      "¡Hola qué tal!\n",
      "¡Hola qué tal!\n",
      "¡Hola qué tal!\n",
      "¡Hola qué tal!\n",
      "¡Hola qué tal!\n",
      "¡Hola qué tal!\n",
      "¡Hola qué tal!\n",
      "¡Hola qué tal!\n",
      "Que tenga un buen día\n"
     ]
    }
   ],
   "source": [
    "# Ciclo while, se condiciona a que el ciclo termine cuando se ingrese un valor distinto de s.\n",
    "stop_word = 's'\n",
    "while stop_word == 's':\n",
    "    print('¡Hola qué tal!')\n",
    "    stop_word = input('¿Quiere otro saludo? [s,n]')\n",
    "print('Que tenga un buen día')"
   ]
  },
  {
   "cell_type": "code",
   "execution_count": 3,
   "metadata": {},
   "outputs": [
    {
     "name": "stdout",
     "output_type": "stream",
     "text": [
      "Hola\n"
     ]
    }
   ],
   "source": [
    "# break rompe el ciclo\n",
    "while True:\n",
    "    print('Hola')\n",
    "    break"
   ]
  },
  {
   "cell_type": "code",
   "execution_count": 4,
   "metadata": {},
   "outputs": [
    {
     "name": "stdout",
     "output_type": "stream",
     "text": [
      "¡Hola qué tal!\n",
      "¡Hola qué tal!\n",
      "¡Hola qué tal!\n",
      "Que tenga un buen día\n"
     ]
    }
   ],
   "source": [
    "# n_rep = n_rep +1, es un contador que limita el ciclo al máximo de repeticiones declarado.\n",
    "stop_word = 's'\n",
    "MAX_REP = 3\n",
    "n_rep = 0\n",
    "while stop_word == 's':\n",
    "    print('¡Hola qué tal!')\n",
    "    stop_word = input('¿Quiere otro saludo? [s,n]')\n",
    "    n_rep = n_rep + 1\n",
    "    if n_rep == MAX_REP:\n",
    "        break\n",
    "print('Que tenga un buen día')"
   ]
  },
  {
   "cell_type": "code",
   "execution_count": 9,
   "metadata": {},
   "outputs": [
    {
     "name": "stdout",
     "output_type": "stream",
     "text": [
      "¡Hola qué tal!\n",
      "¡Hola qué tal!\n",
      "¡Hola qué tal!\n",
      "¡Hola qué tal!\n",
      "¡Hola qué tal!\n",
      "¡Hola qué tal!\n",
      "¡Hola qué tal!\n",
      "¡Hola qué tal!\n",
      "¡Hola qué tal!\n",
      "¡Hola qué tal!\n",
      "¡Hola qué tal!\n",
      "Que tenga un buen día\n"
     ]
    }
   ],
   "source": [
    "stop_word = 's'\n",
    "MAX_REP = 3\n",
    "n_rep = 0\n",
    "while stop_word == 's':\n",
    "    print('¡Hola qué tal!')\n",
    "    stop_word = input('¿Quiere otro saludo? [s,n]')\n",
    "    n_rep += 1\n",
    "    if n_rep > MAX_REP:\n",
    "        continue\n",
    "print('Que tenga un buen día')"
   ]
  },
  {
   "cell_type": "markdown",
   "metadata": {},
   "source": [
    "## Operadores de asignación"
   ]
  },
  {
   "cell_type": "code",
   "execution_count": 6,
   "metadata": {},
   "outputs": [
    {
     "name": "stdout",
     "output_type": "stream",
     "text": [
      "¡Hola qué tal!\n",
      "¡Hola qué tal!\n",
      "¡Hola qué tal!\n",
      "Que tenga un buen día\n"
     ]
    }
   ],
   "source": [
    "stop_word = 's'\n",
    "n_rep = 3\n",
    "while stop_word == 's':\n",
    "    print('¡Hola qué tal!')\n",
    "    stop_word = input('¿Quiere otro saludo? [s,n]')\n",
    "    n_rep -= 1\n",
    "    if n_rep == 0:\n",
    "        break\n",
    "print('Que tenga un buen día')"
   ]
  },
  {
   "cell_type": "code",
   "execution_count": null,
   "metadata": {},
   "outputs": [],
   "source": [
    "stop_word = 's'\n",
    "n_rep = 3\n",
    "while stop_word == 's':\n",
    "    print('¡Hola qué tal!')\n",
    "    stop_word = input('¿Quiere otro saludo? [s,n]')\n",
    "    n_rep += 1\n",
    "    if n_rep == 0:\n",
    "        break\n",
    "print('Que tenga un buen día')"
   ]
  }
 ],
 "metadata": {
  "kernelspec": {
   "display_name": "DCM1",
   "language": "python",
   "name": "python3"
  },
  "language_info": {
   "codemirror_mode": {
    "name": "ipython",
    "version": 3
   },
   "file_extension": ".py",
   "mimetype": "text/x-python",
   "name": "python",
   "nbconvert_exporter": "python",
   "pygments_lexer": "ipython3",
   "version": "3.10.14"
  }
 },
 "nbformat": 4,
 "nbformat_minor": 2
}
